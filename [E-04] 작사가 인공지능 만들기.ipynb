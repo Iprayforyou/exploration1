{
 "cells": [
  {
   "cell_type": "code",
   "execution_count": 1,
   "id": "d2a556bd",
   "metadata": {},
   "outputs": [
    {
     "name": "stdout",
     "output_type": "stream",
     "text": [
      "Source 문장: <start> 나는 밥을 먹었다 \n",
      "Target 문장:  나는 밥을 먹었다 <end>\n"
     ]
    }
   ],
   "source": [
    "sentence = \" 나는 밥을 먹었다 \"\n",
    "\n",
    "source_sentence = \"<start>\" + sentence\n",
    "target_sentence = sentence + \"<end>\"\n",
    "\n",
    "print(\"Source 문장:\", source_sentence)\n",
    "print(\"Target 문장:\", target_sentence)"
   ]
  },
  {
   "cell_type": "code",
   "execution_count": 2,
   "id": "6725349d",
   "metadata": {},
   "outputs": [
    {
     "name": "stdout",
     "output_type": "stream",
     "text": [
      "['First Citizen:', 'Before we proceed any further, hear me speak.', '', 'All:', 'Speak, speak.', '', 'First Citizen:', 'You are all resolved rather to die than to famish?', '']\n"
     ]
    }
   ],
   "source": [
    "import os, re \n",
    "import numpy as np\n",
    "import tensorflow as tf\n",
    "\n",
    "# 파일을 읽기모드로 열고\n",
    "# 라인 단위로 끊어서 list 형태로 읽어옵니다.\n",
    "file_path = os.getenv('HOME') + '/aiffel/lyricist/data/shakespeare.txt'\n",
    "with open(file_path, \"r\") as f:\n",
    "    raw_corpus = f.read().splitlines()\n",
    "\n",
    "# 앞에서부터 10라인만 화면에 출력해 볼까요?\n",
    "print(raw_corpus[:9])"
   ]
  },
  {
   "cell_type": "code",
   "execution_count": 3,
   "id": "6964d50f",
   "metadata": {},
   "outputs": [
    {
     "name": "stdout",
     "output_type": "stream",
     "text": [
      "Before we proceed any further, hear me speak.\n",
      "Speak, speak.\n",
      "You are all resolved rather to die than to famish?\n"
     ]
    }
   ],
   "source": [
    "for idx, sentence in enumerate(raw_corpus):\n",
    "    if len(sentence) == 0: continue   # 길이가 0인 문장은 건너뜁니다.\n",
    "    if sentence[-1] == \":\": continue  # 문장의 끝이 : 인 문장은 건너뜁니다.\n",
    "\n",
    "    if idx > 9: break   # 일단 문장 10개만 확인해 볼 겁니다.\n",
    "        \n",
    "    print(sentence)"
   ]
  },
  {
   "cell_type": "code",
   "execution_count": 4,
   "id": "7fd53a12",
   "metadata": {},
   "outputs": [
    {
     "name": "stdout",
     "output_type": "stream",
     "text": [
      "<start> this is sample sentence . <end>\n"
     ]
    }
   ],
   "source": [
    "# 입력된 문장을\n",
    "#     1. 소문자로 바꾸고, 양쪽 공백을 지웁니다\n",
    "#     2. 특수문자 양쪽에 공백을 넣고\n",
    "#     3. 여러개의 공백은 하나의 공백으로 바꿉니다\n",
    "#     4. a-zA-Z?.!,¿가 아닌 모든 문자를 하나의 공백으로 바꿉니다\n",
    "#     5. 다시 양쪽 공백을 지웁니다\n",
    "#     6. 문장 시작에는 <start>, 끝에는 <end>를 추가합니다\n",
    "# 이 순서로 처리해주면 문제가 되는 상황을 방지할 수 있겠네요!\n",
    "def preprocess_sentence(sentence):\n",
    "    sentence = sentence.lower().strip() # 1\n",
    "    sentence = re.sub(r\"([?.!,¿])\", r\" \\1 \", sentence) # 2\n",
    "    sentence = re.sub(r'[\" \"]+', \" \", sentence) # 3\n",
    "    sentence = re.sub(r\"[^a-zA-Z?.!,¿]+\", \" \", sentence) # 4\n",
    "    sentence = sentence.strip() # 5\n",
    "    sentence = '<start> ' + sentence + ' <end>' # 6\n",
    "    return sentence\n",
    "\n",
    "# 이 문장이 어떻게 필터링되는지 확인해 보세요.\n",
    "print(preprocess_sentence(\"This @_is ;;;sample        sentence.\"))"
   ]
  },
  {
   "cell_type": "code",
   "execution_count": 5,
   "id": "79bf1876",
   "metadata": {},
   "outputs": [
    {
     "data": {
      "text/plain": [
       "['<start> before we proceed any further , hear me speak . <end>',\n",
       " '<start> speak , speak . <end>',\n",
       " '<start> you are all resolved rather to die than to famish ? <end>',\n",
       " '<start> resolved . resolved . <end>',\n",
       " '<start> first , you know caius marcius is chief enemy to the people . <end>',\n",
       " '<start> we know t , we know t . <end>',\n",
       " '<start> let us kill him , and we ll have corn at our own price . <end>',\n",
       " '<start> is t a verdict ? <end>',\n",
       " '<start> no more talking on t let it be done away , away ! <end>',\n",
       " '<start> one word , good citizens . <end>']"
      ]
     },
     "execution_count": 5,
     "metadata": {},
     "output_type": "execute_result"
    }
   ],
   "source": [
    "# 여기에 정제된 문장을 모을겁니다\n",
    "corpus = []\n",
    "\n",
    "for sentence in raw_corpus:\n",
    "    # 우리가 원하지 않는 문장은 건너뜁니다\n",
    "    if len(sentence) == 0: continue\n",
    "    if sentence[-1] == \":\": continue\n",
    "    \n",
    "    # 정제를 하고 담아주세요\n",
    "    preprocessed_sentence = preprocess_sentence(sentence)\n",
    "    corpus.append(preprocessed_sentence)\n",
    "        \n",
    "# 정제된 결과를 10개만 확인해보죠\n",
    "corpus[:10]"
   ]
  },
  {
   "cell_type": "code",
   "execution_count": 6,
   "id": "9f359fce",
   "metadata": {},
   "outputs": [
    {
     "name": "stdout",
     "output_type": "stream",
     "text": [
      "[[   2  143   40 ...    0    0    0]\n",
      " [   2  110    4 ...    0    0    0]\n",
      " [   2   11   50 ...    0    0    0]\n",
      " ...\n",
      " [   2  149 4553 ...    0    0    0]\n",
      " [   2   34   71 ...    0    0    0]\n",
      " [   2  945   34 ...    0    0    0]] <keras_preprocessing.text.Tokenizer object at 0x7f3bc42611c0>\n"
     ]
    }
   ],
   "source": [
    "# 토큰화 할 때 텐서플로우의 Tokenizer와 pad_sequences를 사용합니다\n",
    "# 더 잘 알기 위해 아래 문서들을 참고하면 좋습니다\n",
    "# https://www.tensorflow.org/api_docs/python/tf/keras/preprocessing/text/Tokenizer\n",
    "# https://www.tensorflow.org/api_docs/python/tf/keras/preprocessing/sequence/pad_sequences\n",
    "def tokenize(corpus):\n",
    "    # 7000단어를 기억할 수 있는 tokenizer를 만들겁니다\n",
    "    # 우리는 이미 문장을 정제했으니 filters가 필요없어요\n",
    "    # 7000단어에 포함되지 못한 단어는 '<unk>'로 바꿀거에요\n",
    "    tokenizer = tf.keras.preprocessing.text.Tokenizer(\n",
    "        num_words=7000, \n",
    "        filters=' ',\n",
    "        oov_token=\"<unk>\"\n",
    "    )\n",
    "    # corpus를 이용해 tokenizer 내부의 단어장을 완성합니다\n",
    "    tokenizer.fit_on_texts(corpus)\n",
    "    # 준비한 tokenizer를 이용해 corpus를 Tensor로 변환합니다\n",
    "    tensor = tokenizer.texts_to_sequences(corpus)   \n",
    "    # 입력 데이터의 시퀀스 길이를 일정하게 맞춰줍니다\n",
    "    # 만약 시퀀스가 짧다면 문장 뒤에 패딩을 붙여 길이를 맞춰줍니다.\n",
    "    # 문장 앞에 패딩을 붙여 길이를 맞추고 싶다면 padding='pre'를 사용합니다\n",
    "    tensor = tf.keras.preprocessing.sequence.pad_sequences(tensor, padding='post')  \n",
    "    \n",
    "    print(tensor,tokenizer)\n",
    "    return tensor, tokenizer\n",
    "\n",
    "tensor, tokenizer = tokenize(corpus)"
   ]
  },
  {
   "cell_type": "code",
   "execution_count": 7,
   "id": "3245e517",
   "metadata": {},
   "outputs": [
    {
     "name": "stdout",
     "output_type": "stream",
     "text": [
      "[[   2  143   40  933  140  591    4  124   24  110]\n",
      " [   2  110    4  110    5    3    0    0    0    0]\n",
      " [   2   11   50   43 1201  316    9  201   74    9]]\n"
     ]
    }
   ],
   "source": [
    "print(tensor[:3, :10])"
   ]
  },
  {
   "cell_type": "code",
   "execution_count": 8,
   "id": "7c5889a9",
   "metadata": {},
   "outputs": [
    {
     "name": "stdout",
     "output_type": "stream",
     "text": [
      "1 : <unk>\n",
      "2 : <start>\n",
      "3 : <end>\n",
      "4 : ,\n",
      "5 : .\n",
      "6 : the\n",
      "7 : and\n",
      "8 : i\n",
      "9 : to\n",
      "10 : of\n"
     ]
    }
   ],
   "source": [
    "for idx in tokenizer.index_word:\n",
    "    print(idx, \":\", tokenizer.index_word[idx])\n",
    "\n",
    "    if idx >= 10: break"
   ]
  },
  {
   "cell_type": "code",
   "execution_count": 9,
   "id": "2ed7a9a5",
   "metadata": {},
   "outputs": [
    {
     "name": "stdout",
     "output_type": "stream",
     "text": [
      "[  2 143  40 933 140 591   4 124  24 110   5   3   0   0   0   0   0   0\n",
      "   0   0]\n",
      "[143  40 933 140 591   4 124  24 110   5   3   0   0   0   0   0   0   0\n",
      "   0   0]\n"
     ]
    }
   ],
   "source": [
    "# tensor에서 마지막 토큰을 잘라내서 소스 문장을 생성합니다\n",
    "# 마지막 토큰은 <end>가 아니라 <pad>일 가능성이 높습니다.\n",
    "src_input = tensor[:, :-1]  \n",
    "# tensor에서 <start>를 잘라내서 타겟 문장을 생성합니다.\n",
    "tgt_input = tensor[:, 1:]    \n",
    "\n",
    "print(src_input[0])\n",
    "print(tgt_input[0])"
   ]
  },
  {
   "cell_type": "code",
   "execution_count": 10,
   "id": "9f636fba",
   "metadata": {},
   "outputs": [
    {
     "data": {
      "text/plain": [
       "<BatchDataset shapes: ((256, 20), (256, 20)), types: (tf.int32, tf.int32)>"
      ]
     },
     "execution_count": 10,
     "metadata": {},
     "output_type": "execute_result"
    }
   ],
   "source": [
    "BUFFER_SIZE = len(src_input)\n",
    "BATCH_SIZE = 256\n",
    "steps_per_epoch = len(src_input) // BATCH_SIZE\n",
    "\n",
    " # tokenizer가 구축한 단어사전 내 7000개와, 여기 포함되지 않은 0:<pad>를 포함하여 7001개\n",
    "VOCAB_SIZE = tokenizer.num_words + 1   \n",
    "\n",
    "# 준비한 데이터 소스로부터 데이터셋을 만듭니다\n",
    "# 데이터셋에 대해서는 아래 문서를 참고하세요\n",
    "# 자세히 알아둘수록 도움이 많이 되는 중요한 문서입니다\n",
    "# https://www.tensorflow.org/api_docs/python/tf/data/Dataset\n",
    "dataset = tf.data.Dataset.from_tensor_slices((src_input, tgt_input))\n",
    "dataset = dataset.shuffle(BUFFER_SIZE)\n",
    "dataset = dataset.batch(BATCH_SIZE, drop_remainder=True)\n",
    "dataset"
   ]
  },
  {
   "cell_type": "code",
   "execution_count": 12,
   "id": "b4934113",
   "metadata": {},
   "outputs": [],
   "source": [
    "class TextGenerator(tf.keras.Model):\n",
    "    def __init__(self, vocab_size, embedding_size, hidden_size):\n",
    "        super().__init__()\n",
    "        \n",
    "        self.embedding = tf.keras.layers.Embedding(vocab_size, embedding_size)\n",
    "        self.rnn_1 = tf.keras.layers.LSTM(hidden_size, return_sequences=True)\n",
    "        self.rnn_2 = tf.keras.layers.LSTM(hidden_size, return_sequences=True)\n",
    "        self.linear = tf.keras.layers.Dense(vocab_size)\n",
    "        \n",
    "    def call(self, x):\n",
    "        out = self.embedding(x)\n",
    "        out = self.rnn_1(out)\n",
    "        out = self.rnn_2(out)\n",
    "        out = self.linear(out)\n",
    "        \n",
    "        return out\n",
    "    \n",
    "embedding_size = 256\n",
    "hidden_size = 1024\n",
    "model = TextGenerator(tokenizer.num_words + 1, embedding_size , hidden_size)"
   ]
  },
  {
   "cell_type": "code",
   "execution_count": 13,
   "id": "e3603973",
   "metadata": {},
   "outputs": [],
   "source": [
    "class TextGenerator(tf.keras.Model):\n",
    "    def __init__(self, vocab_size, embedding_size, hidden_size):\n",
    "        super().__init__()\n",
    "        \n",
    "        self.embedding = tf.keras.layers.Embedding(vocab_size, embedding_size)\n",
    "        self.rnn_1 = tf.keras.layers.LSTM(hidden_size, return_sequences=True)\n",
    "        self.rnn_2 = tf.keras.layers.LSTM(hidden_size, return_sequences=True)\n",
    "        self.linear = tf.keras.layers.Dense(vocab_size)\n",
    "        \n",
    "    def call(self, x):\n",
    "        out = self.embedding(x)\n",
    "        out = self.rnn_1(out)\n",
    "        out = self.rnn_2(out)\n",
    "        out = self.linear(out)\n",
    "        \n",
    "        return out\n",
    "    \n",
    "embedding_size = 256\n",
    "hidden_size = 1024\n",
    "model = TextGenerator(tokenizer.num_words + 1, embedding_size , hidden_size)"
   ]
  },
  {
   "cell_type": "code",
   "execution_count": 14,
   "id": "52f5132e",
   "metadata": {},
   "outputs": [
    {
     "data": {
      "text/plain": [
       "<tf.Tensor: shape=(256, 20, 7001), dtype=float32, numpy=\n",
       "array([[[ 1.80003859e-04,  9.51508191e-05,  9.95436421e-05, ...,\n",
       "         -1.05169907e-04,  6.01296371e-04,  5.13608720e-05],\n",
       "        [ 6.27352099e-04,  4.51999425e-04, -9.13595213e-05, ...,\n",
       "         -2.99998734e-04,  1.00039446e-03,  2.50033685e-04],\n",
       "        [ 1.08992052e-03,  3.14539269e-04,  8.74854504e-06, ...,\n",
       "         -5.79258543e-04,  1.21959625e-03,  2.29677345e-04],\n",
       "        ...,\n",
       "        [ 7.96065608e-04, -2.86878017e-03,  7.40258663e-04, ...,\n",
       "         -5.96568687e-03,  1.11890069e-04,  4.50242806e-04],\n",
       "        [ 8.65355309e-04, -2.84011685e-03,  7.67793215e-04, ...,\n",
       "         -6.31182175e-03,  1.34394577e-04,  4.80457180e-04],\n",
       "        [ 9.36651544e-04, -2.80101411e-03,  7.96116423e-04, ...,\n",
       "         -6.60796929e-03,  1.55882575e-04,  5.11453720e-04]],\n",
       "\n",
       "       [[ 1.80003859e-04,  9.51508191e-05,  9.95436421e-05, ...,\n",
       "         -1.05169907e-04,  6.01296371e-04,  5.13608720e-05],\n",
       "        [ 2.88554700e-04,  1.72243981e-05,  7.16287541e-05, ...,\n",
       "          8.81382512e-05,  9.82085010e-04,  3.65055457e-04],\n",
       "        [ 2.57082662e-04,  1.18394535e-04,  1.71637788e-04, ...,\n",
       "          8.06412194e-04,  1.19682204e-03,  4.50646796e-04],\n",
       "        ...,\n",
       "        [ 3.30547075e-04, -6.17143000e-04, -1.34848291e-04, ...,\n",
       "         -1.63867907e-03, -8.27385054e-04,  1.19617570e-03],\n",
       "        [ 3.71436880e-04, -1.02858618e-03, -8.08658951e-05, ...,\n",
       "         -2.38399138e-03, -8.08147772e-04,  1.19110721e-03],\n",
       "        [ 4.21678153e-04, -1.38045952e-03, -2.15171603e-05, ...,\n",
       "         -3.10779107e-03, -7.73993786e-04,  1.14603620e-03]],\n",
       "\n",
       "       [[ 1.80003859e-04,  9.51508191e-05,  9.95436421e-05, ...,\n",
       "         -1.05169907e-04,  6.01296371e-04,  5.13608720e-05],\n",
       "        [-3.02524248e-04, -3.01739987e-04,  4.80912800e-04, ...,\n",
       "         -1.21457844e-04,  6.06545771e-04,  1.94973400e-04],\n",
       "        [-6.61286991e-04, -7.86319899e-04,  6.98488497e-04, ...,\n",
       "         -1.16015493e-04,  2.44677241e-04,  3.24579858e-04],\n",
       "        ...,\n",
       "        [ 1.70356187e-04, -2.36265711e-03,  3.10290896e-04, ...,\n",
       "         -5.15874429e-03, -3.24185647e-04,  1.07773603e-03],\n",
       "        [ 3.13636614e-04, -2.44749547e-03,  3.61935032e-04, ...,\n",
       "         -5.62564936e-03, -2.72491860e-04,  1.03116501e-03],\n",
       "        [ 4.47827013e-04, -2.50307028e-03,  4.21652716e-04, ...,\n",
       "         -6.03615027e-03, -2.21294235e-04,  9.88824992e-04]],\n",
       "\n",
       "       ...,\n",
       "\n",
       "       [[ 1.80003859e-04,  9.51508191e-05,  9.95436421e-05, ...,\n",
       "         -1.05169907e-04,  6.01296371e-04,  5.13608720e-05],\n",
       "        [ 7.09971282e-05,  2.26694086e-04,  5.59868931e-04, ...,\n",
       "         -7.85948578e-05,  8.85457324e-04,  1.56799782e-04],\n",
       "        [ 2.26266347e-05,  3.79349891e-04,  8.89273768e-04, ...,\n",
       "         -4.10159002e-04,  1.19300792e-03,  2.99179985e-04],\n",
       "        ...,\n",
       "        [ 3.82692611e-04, -2.49883602e-03,  7.13477377e-04, ...,\n",
       "         -5.49169909e-03, -2.07090110e-04,  4.21226956e-04],\n",
       "        [ 4.84094227e-04, -2.59210099e-03,  7.16334151e-04, ...,\n",
       "         -5.90368733e-03, -2.07990786e-04,  4.38405375e-04],\n",
       "        [ 5.85468428e-04, -2.64846883e-03,  7.32564949e-04, ...,\n",
       "         -6.26104604e-03, -1.96410372e-04,  4.57491056e-04]],\n",
       "\n",
       "       [[ 1.80003859e-04,  9.51508191e-05,  9.95436421e-05, ...,\n",
       "         -1.05169907e-04,  6.01296371e-04,  5.13608720e-05],\n",
       "        [ 5.98070255e-06, -7.95722372e-05,  2.83103902e-04, ...,\n",
       "         -1.44345031e-04,  6.64963329e-04, -1.17718337e-04],\n",
       "        [ 1.87701255e-04, -6.38686470e-05,  3.02182343e-05, ...,\n",
       "         -3.50675342e-04,  4.56357120e-05, -5.68587857e-04],\n",
       "        ...,\n",
       "        [-4.62791795e-04, -1.42256485e-03, -3.85277905e-04, ...,\n",
       "         -2.38845614e-03, -1.00282265e-03,  4.86791454e-04],\n",
       "        [-2.83302943e-04, -1.80719618e-03, -3.01246386e-04, ...,\n",
       "         -3.07331677e-03, -9.12957592e-04,  5.29481855e-04],\n",
       "        [-1.17943360e-04, -2.10085837e-03, -2.09004982e-04, ...,\n",
       "         -3.72413057e-03, -8.19970330e-04,  5.51380799e-04]],\n",
       "\n",
       "       [[ 1.80003859e-04,  9.51508191e-05,  9.95436421e-05, ...,\n",
       "         -1.05169907e-04,  6.01296371e-04,  5.13608720e-05],\n",
       "        [ 2.02094729e-04,  3.32143827e-04,  3.74454103e-04, ...,\n",
       "          1.02054710e-05,  7.20674463e-04,  3.11554904e-05],\n",
       "        [-6.50236179e-05,  2.16712346e-04,  6.55246724e-04, ...,\n",
       "         -8.33412778e-05,  6.25124201e-04,  8.43373346e-05],\n",
       "        ...,\n",
       "        [ 3.34469340e-04, -2.30731117e-03, -1.72363289e-04, ...,\n",
       "         -2.99745495e-03,  1.97269674e-05,  6.83722843e-04],\n",
       "        [ 4.77382477e-04, -2.57598399e-03, -1.11719441e-04, ...,\n",
       "         -3.66257923e-03,  2.49722962e-05,  6.27154717e-04],\n",
       "        [ 5.89521020e-04, -2.76924134e-03, -4.22129924e-05, ...,\n",
       "         -4.29502223e-03,  3.37893798e-05,  5.67181443e-04]]],\n",
       "      dtype=float32)>"
      ]
     },
     "execution_count": 14,
     "metadata": {},
     "output_type": "execute_result"
    }
   ],
   "source": [
    "# 데이터셋에서 데이터 한 배치만 불러오는 방법입니다.\n",
    "# 지금은 동작 원리에 너무 빠져들지 마세요~\n",
    "for src_sample, tgt_sample in dataset.take(1): break\n",
    "\n",
    "# 한 배치만 불러온 데이터를 모델에 넣어봅니다\n",
    "model(src_sample)"
   ]
  },
  {
   "cell_type": "code",
   "execution_count": 15,
   "id": "6eb9b377",
   "metadata": {},
   "outputs": [
    {
     "name": "stdout",
     "output_type": "stream",
     "text": [
      "Model: \"text_generator_2\"\n",
      "_________________________________________________________________\n",
      "Layer (type)                 Output Shape              Param #   \n",
      "=================================================================\n",
      "embedding_2 (Embedding)      multiple                  1792256   \n",
      "_________________________________________________________________\n",
      "lstm_4 (LSTM)                multiple                  5246976   \n",
      "_________________________________________________________________\n",
      "lstm_5 (LSTM)                multiple                  8392704   \n",
      "_________________________________________________________________\n",
      "dense_2 (Dense)              multiple                  7176025   \n",
      "=================================================================\n",
      "Total params: 22,607,961\n",
      "Trainable params: 22,607,961\n",
      "Non-trainable params: 0\n",
      "_________________________________________________________________\n"
     ]
    }
   ],
   "source": [
    "model.summary()"
   ]
  },
  {
   "cell_type": "code",
   "execution_count": 16,
   "id": "edd12f3b",
   "metadata": {},
   "outputs": [
    {
     "name": "stdout",
     "output_type": "stream",
     "text": [
      "Epoch 1/30\n",
      "93/93 [==============================] - 19s 183ms/step - loss: 3.4971\n",
      "Epoch 2/30\n",
      "93/93 [==============================] - 18s 192ms/step - loss: 2.8105\n",
      "Epoch 3/30\n",
      "93/93 [==============================] - 18s 194ms/step - loss: 2.7211\n",
      "Epoch 4/30\n",
      "93/93 [==============================] - 17s 186ms/step - loss: 2.6248\n",
      "Epoch 5/30\n",
      "93/93 [==============================] - 17s 183ms/step - loss: 2.5543\n",
      "Epoch 6/30\n",
      "93/93 [==============================] - 17s 188ms/step - loss: 2.5011\n",
      "Epoch 7/30\n",
      "93/93 [==============================] - 18s 190ms/step - loss: 2.4487\n",
      "Epoch 8/30\n",
      "93/93 [==============================] - 18s 190ms/step - loss: 2.3962\n",
      "Epoch 9/30\n",
      "93/93 [==============================] - 17s 188ms/step - loss: 2.3478\n",
      "Epoch 10/30\n",
      "93/93 [==============================] - 17s 187ms/step - loss: 2.3030\n",
      "Epoch 11/30\n",
      "93/93 [==============================] - 18s 189ms/step - loss: 2.2562\n",
      "Epoch 12/30\n",
      "93/93 [==============================] - 18s 189ms/step - loss: 2.2125\n",
      "Epoch 13/30\n",
      "93/93 [==============================] - 18s 189ms/step - loss: 2.1718\n",
      "Epoch 14/30\n",
      "93/93 [==============================] - 18s 189ms/step - loss: 2.1279\n",
      "Epoch 15/30\n",
      "93/93 [==============================] - 18s 189ms/step - loss: 2.0851\n",
      "Epoch 16/30\n",
      "93/93 [==============================] - 18s 188ms/step - loss: 2.0431\n",
      "Epoch 17/30\n",
      "93/93 [==============================] - 18s 190ms/step - loss: 2.0006\n",
      "Epoch 18/30\n",
      "93/93 [==============================] - 18s 189ms/step - loss: 1.9594\n",
      "Epoch 19/30\n",
      "93/93 [==============================] - 17s 188ms/step - loss: 1.9156\n",
      "Epoch 20/30\n",
      "93/93 [==============================] - 17s 188ms/step - loss: 1.8754\n",
      "Epoch 21/30\n",
      "93/93 [==============================] - 17s 188ms/step - loss: 1.8315\n",
      "Epoch 22/30\n",
      "93/93 [==============================] - 18s 188ms/step - loss: 1.7895\n",
      "Epoch 23/30\n",
      "93/93 [==============================] - 18s 188ms/step - loss: 1.7472\n",
      "Epoch 24/30\n",
      "93/93 [==============================] - 18s 188ms/step - loss: 1.7069\n",
      "Epoch 25/30\n",
      "93/93 [==============================] - 18s 188ms/step - loss: 1.6634\n",
      "Epoch 26/30\n",
      "93/93 [==============================] - 18s 189ms/step - loss: 1.6227\n",
      "Epoch 27/30\n",
      "93/93 [==============================] - 18s 189ms/step - loss: 1.5796\n",
      "Epoch 28/30\n",
      "93/93 [==============================] - 18s 188ms/step - loss: 1.5386\n",
      "Epoch 29/30\n",
      "93/93 [==============================] - 18s 189ms/step - loss: 1.4961\n",
      "Epoch 30/30\n",
      "93/93 [==============================] - 18s 189ms/step - loss: 1.4545\n"
     ]
    },
    {
     "data": {
      "text/plain": [
       "<keras.callbacks.History at 0x7f3b34af2a90>"
      ]
     },
     "execution_count": 16,
     "metadata": {},
     "output_type": "execute_result"
    }
   ],
   "source": [
    "# optimizer와 loss등은 차차 배웁니다\n",
    "# 혹시 미리 알고 싶다면 아래 문서를 참고하세요\n",
    "# https://www.tensorflow.org/api_docs/python/tf/keras/optimizers\n",
    "# https://www.tensorflow.org/api_docs/python/tf/keras/losses\n",
    "# 양이 상당히 많은 편이니 지금 보는 것은 추천하지 않습니다\n",
    "optimizer = tf.keras.optimizers.Adam()\n",
    "loss = tf.keras.losses.SparseCategoricalCrossentropy(\n",
    "    from_logits=True,\n",
    "    reduction='none'\n",
    ")\n",
    "\n",
    "model.compile(loss=loss, optimizer=optimizer)\n",
    "model.fit(dataset, epochs=30)"
   ]
  },
  {
   "cell_type": "code",
   "execution_count": 23,
   "id": "aca6cbc7",
   "metadata": {},
   "outputs": [
    {
     "name": "stdout",
     "output_type": "stream",
     "text": [
      "데이터 크기: 187088\n",
      "Examples:\n",
      " [\"Now I've heard there was a secret chord\", 'That David played, and it pleased the Lord', \"But you don't really care for music, do you?\"]\n"
     ]
    }
   ],
   "source": [
    "import glob\n",
    "import os\n",
    "\n",
    "txt_file_path = os.getenv('HOME')+'/aiffel/lyricist/data/lyrics/*'\n",
    "\n",
    "txt_list = glob.glob(txt_file_path)\n",
    "\n",
    "raw_corpus = []\n",
    "\n",
    "# 여러개의 txt 파일을 모두 읽어서 raw_corpus 에 담습니다.\n",
    "for txt_file in txt_list:\n",
    "    with open(txt_file, \"r\") as f:\n",
    "        raw = f.read().splitlines()\n",
    "        raw_corpus.extend(raw)\n",
    "\n",
    "print(\"데이터 크기:\", len(raw_corpus))\n",
    "print(\"Examples:\\n\", raw_corpus[:3])"
   ]
  },
  {
   "cell_type": "code",
   "execution_count": null,
   "id": "d708f107",
   "metadata": {},
   "outputs": [],
   "source": []
  }
 ],
 "metadata": {
  "kernelspec": {
   "display_name": "Python 3 (ipykernel)",
   "language": "python",
   "name": "python3"
  },
  "language_info": {
   "codemirror_mode": {
    "name": "ipython",
    "version": 3
   },
   "file_extension": ".py",
   "mimetype": "text/x-python",
   "name": "python",
   "nbconvert_exporter": "python",
   "pygments_lexer": "ipython3",
   "version": "3.9.7"
  }
 },
 "nbformat": 4,
 "nbformat_minor": 5
}
